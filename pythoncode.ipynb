{
 "cells": [
  {
   "cell_type": "markdown",
   "metadata": {},
   "source": [
    "# New Apprentice Python Project\n",
    "**Using the appleAppData data set found on Kaggle!**"
   ]
  },
  {
   "cell_type": "markdown",
   "metadata": {},
   "source": [
    "```python\n",
    "Business Questions :\n",
    "1. What is the average rating of the FREE and NON-FREE apps\n",
    "2. What are the average ratings of common genres (gaming, business, navigation, etc)?\n",
    "3. What is the average price of gaming apps?\n",
    "```"
   ]
  },
  {
   "cell_type": "markdown",
   "metadata": {},
   "source": [
    "**Displaying just the header names so I can easily call the index number!**"
   ]
  },
  {
   "cell_type": "code",
   "execution_count": null,
   "metadata": {},
   "outputs": [],
   "source": [
    "import csv\n",
    "import pandas as pd\n",
    "import matplotlib.pyplot as plt\n",
    "\n",
    "with open('appleAppData.csv', 'r', encoding = 'utf8') as read_obj:\n",
    "    csv_reader = csv.reader(read_obj)\n",
    "    apps_data = list(csv_reader)\n",
    "\n",
    "\n",
    "df = pd.read_csv('appleAppData.csv')\n",
    "column_headers = list(df.columns.values)\n",
    "print(\"The Column Header :\", column_headers)\n",
    "\n",
    "\n",
    "## Displays information on a specific column name\n",
    "category = df['Primary_Genre'].unique().tolist()\n",
    "print(category)\n",
    "#df.info()"
   ]
  },
  {
   "cell_type": "markdown",
   "metadata": {},
   "source": [
    "\n",
    "# **Finding the average rating of free apps and non free apps!**\n"
   ]
  },
  {
   "cell_type": "code",
   "execution_count": 124,
   "metadata": {},
   "outputs": [
    {
     "name": "stdout",
     "output_type": "stream",
     "text": [
      "Average Rating of Free Apps: 4.0592\n",
      "Average Rating of Paid Apps: 3.7311\n"
     ]
    }
   ],
   "source": [
    "\n",
    "# Create a function that loops through the rating column to assign those values to lists\n",
    "def loop_paid_vs_free():\n",
    "    global non_free_ratings, free_apps_ratings\n",
    "    non_free_ratings = []\n",
    "    free_apps_ratings = []\n",
    "    for row in apps_data[1:]:\n",
    "        free_or_paid = row[12]\n",
    "        if row[17] > '0.0': ## Checks if the rating is more than 0, to remove non rated apps\n",
    "            rating = float(row[17])\n",
    "            free_or_paid = row[12]\n",
    "            if free_or_paid == 'True':\n",
    "                free_apps_ratings.append(rating)\n",
    "            else:\n",
    "                non_free_ratings.append(rating)\n",
    "                \n",
    "## Create a function to find the average of ratings and return that value\n",
    "def average_rating(sum_ratings, len_ratings):\n",
    "    average = round(sum_ratings / len_ratings, 4)\n",
    "    return average\n",
    "\n",
    "\n",
    "loop_paid_vs_free() ##Calling my loop function to find the ratings from free and paid apps\n",
    "\n",
    "# Print the findings\n",
    "print('Average Rating of Free Apps: ' + str(average_rating(sum(free_apps_ratings), len(free_apps_ratings))))\n",
    "print('Average Rating of Paid Apps: ' + str(average_rating(sum(non_free_ratings), len(non_free_ratings))))\n"
   ]
  },
  {
   "cell_type": "markdown",
   "metadata": {},
   "source": [
    "# **Average Ratings of Common Genres**"
   ]
  },
  {
   "cell_type": "code",
   "execution_count": null,
   "metadata": {},
   "outputs": [],
   "source": [
    "\n",
    "# Creating list variables to hold iterated data\n",
    "games_genre_rating = []\n",
    "business_genre_rating = []\n",
    "navigation_genre_rating = []\n",
    "entertainment_genre_rating = []\n",
    "\n",
    "for row in apps_data[1:]:\n",
    "    rating = float(row[17])\n",
    "    genre = row[3]\n",
    "\n",
    "    if genre == 'Games' and row[17] > '0.0':\n",
    "        games_genre_rating.append(rating)\n",
    "    elif genre == 'Business' and row[17] > '0.0':\n",
    "        business_genre_rating.append(rating)\n",
    "    elif genre == 'Navigation' and row[17] > '0.0':\n",
    "        navigation_genre_rating.append(rating)\n",
    "    elif genre == 'Entertainment' and row[17] > '0.0':\n",
    "        entertainment_genre_rating.append(rating)\n",
    "\n",
    "\n",
    "avg_games_rating = sum(games_genre_rating) / len(games_genre_rating)\n",
    "avg_business_rating = sum(business_genre_rating) / len(business_genre_rating)\n",
    "avg_navigation_rating = sum(navigation_genre_rating) / len(navigation_genre_rating)\n",
    "avg_entertainment_rating = sum(entertainment_genre_rating) / len(entertainment_genre_rating)\n",
    "\n",
    "#print('''The average rating of these common genres is as follows:\n",
    "#Games Rating: ''' + '%.3f' % avg_games_rating + '''\n",
    "#Business Rating: ''' + '%.3f' % avg_business_rating +'''\n",
    "#Navigation Rating: ''' + '%.3f' % avg_navigation_rating + '''\n",
    "#Entertainment Rating: ''' + '%.3f' % avg_entertainment_rating)\n",
    "\n",
    "## Creating a graph dictionary to hold the data that I want to display\n",
    "graph_dict = { 'Genres':['Gaming', 'Business', 'Navigation', 'Entertainment'],\n",
    "                'Average Rankings':[avg_games_rating, avg_business_rating, avg_navigation_rating, avg_entertainment_rating]}\n",
    "\n",
    "## Creating the DataFrame using the dictionary I created\n",
    "df = pd.DataFrame(graph_dict)\n",
    "## Creates a bar graph using the information from the DataFrame\n",
    "graph = df.plot(figsize = (20, 10), \n",
    "            kind = 'bar',\n",
    "            title = 'Average Ratings of Common Categories',\n",
    "            legend = False,\n",
    "            x = 'Genres',\n",
    "            y = 'Average Rankings',\n",
    "            color = 'blue')\n",
    "\n",
    "plt.figure(facecolor = 'red')\n",
    "graph.bar_label(graph.containers[0]) #Graph labels to display the actual average of the genre\n",
    "graph.set_facecolor('lightslategray')"
   ]
  },
  {
   "cell_type": "markdown",
   "metadata": {},
   "source": [
    "# Calculating the average price of gaming apps"
   ]
  },
  {
   "cell_type": "code",
   "execution_count": null,
   "metadata": {},
   "outputs": [],
   "source": [
    "price_gaming_apps = []\n",
    "\n",
    "for row in apps_data[1:]:\n",
    "    genre = row[3]\n",
    "    try:\n",
    "        if float(row[10]) > 0 and genre == 'Games':\n",
    "            price_gaming_apps.append(float(row[10].strip('\"')))\n",
    "    except ValueError:\n",
    "        pass\n",
    "avg_paid_apps = round(sum(price_gaming_apps) / len(price_gaming_apps), 2)\n",
    "most_expensive_game_app = max(price_gaming_apps)\n",
    "cheapest_game_app = min(price_gaming_apps)\n",
    "print(\"The average price of gaming apps is: \" + \"$\" + str(avg_paid_apps))\n",
    "print(\"The most expensive gaming app is: \" + \"$\" + str(most_expensive_game_app))\n",
    "print(\"The cheapest gaming app is: \" + \"$\" + str(cheapest_game_app))\n",
    "\n",
    "\n",
    "## Maybe make a graph showing the max, min and avg price"
   ]
  }
 ],
 "metadata": {
  "kernelspec": {
   "display_name": "Python 3.9.7 64-bit",
   "language": "python",
   "name": "python3"
  },
  "language_info": {
   "codemirror_mode": {
    "name": "ipython",
    "version": 3
   },
   "file_extension": ".py",
   "mimetype": "text/x-python",
   "name": "python",
   "nbconvert_exporter": "python",
   "pygments_lexer": "ipython3",
   "version": "3.9.7"
  },
  "orig_nbformat": 4,
  "vscode": {
   "interpreter": {
    "hash": "c48e784580535a0043e835f347c242c3ba8d520cc19d6dd73066c5c113ac8a1a"
   }
  }
 },
 "nbformat": 4,
 "nbformat_minor": 2
}
