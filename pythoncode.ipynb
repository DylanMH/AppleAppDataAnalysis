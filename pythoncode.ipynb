{
 "cells": [
  {
   "cell_type": "markdown",
   "metadata": {},
   "source": [
    "# New Apprentice Python Project \n",
    "**Using the appleAppData data set found on Kaggle! https://www.kaggle.com/datasets/gauthamp10/apple-appstore-apps** "
   ]
  },
  {
   "cell_type": "markdown",
   "metadata": {},
   "source": [
    "```python\n",
    "Business Questions :\n",
    "1. What is the average rating of the FREE and NON-FREE apps\n",
    "2. What are the average ratings of common genres (gaming, business, navigation, etc)?\n",
    "3. What is the average, minimum and max price of gaming apps?\n",
    "```"
   ]
  },
  {
   "cell_type": "markdown",
   "metadata": {},
   "source": [
    "\n",
    "##### Importing Libraries, opening the dataset and cleaning it\n"
   ]
  },
  {
   "cell_type": "code",
   "execution_count": null,
   "metadata": {},
   "outputs": [],
   "source": [
    "import csv\n",
    "import pandas as pd\n",
    "import matplotlib.pyplot as plt\n",
    "import matplotlib\n",
    "import numpy as np\n",
    "\n",
    "df = pd.read_csv('appleAppData.csv')\n",
    "df_main = df.dropna() # Drops all NaN values"
   ]
  },
  {
   "cell_type": "markdown",
   "metadata": {},
   "source": [
    "Showing the dataset information and displaying a small table of the data"
   ]
  },
  {
   "cell_type": "code",
   "execution_count": null,
   "metadata": {},
   "outputs": [],
   "source": [
    "# Displaying data set information\n",
    "df_main.info()\n",
    "\n",
    "# Showing a small table of some of the data I will be analyzing\n",
    "df_table = df_main[['Primary_Genre', 'Average_User_Rating', 'Free']]\n",
    "df_table.head(10)"
   ]
  },
  {
   "cell_type": "markdown",
   "metadata": {},
   "source": [
    "# Creating a function to find the average of free and paid apps!"
   ]
  },
  {
   "cell_type": "markdown",
   "metadata": {},
   "source": [
    "Creating the app_rating function to itterate through free and paid apps"
   ]
  },
  {
   "cell_type": "code",
   "execution_count": null,
   "metadata": {},
   "outputs": [],
   "source": [
    "def app_ratings():\n",
    "    global free_apps, paid_apps\n",
    "    free_apps = []\n",
    "    paid_apps = []\n",
    "\n",
    "    for index, row in df_main.iterrows():\n",
    "        if row[17] > 0:\n",
    "            rating = row[17] \n",
    "            free_checker = row[12] # Set a variable to hold the value of the free column from the dataset\n",
    "            if free_checker == True:\n",
    "                free_apps.append(rating) # Adds the rating value to the free apps list only the free_checker returns True\n",
    "            else: \n",
    "                paid_apps.append(rating) # Adds the rating value to the paid apps list if free_checker returns False"
   ]
  },
  {
   "cell_type": "markdown",
   "metadata": {},
   "source": [
    "Creating an average finder function for lists to keep code cleaner. Calling app_ratings function to create a graph of the data found!\n"
   ]
  },
  {
   "cell_type": "code",
   "execution_count": null,
   "metadata": {},
   "outputs": [],
   "source": [
    "           \n",
    "# Create a function thats accepts a list and returns the average value of that list \n",
    "def average_for_lists(list):\n",
    "    average = round(sum(list) / len(list), 4)\n",
    "    return average\n",
    "\n",
    "# Calling my loop function to find the ratings from free and paid apps\n",
    "app_ratings() ##Calling my loop function to find the ratings from free and paid apps\n",
    "\n",
    "# Create a dictionary to hold the found data\n",
    "free_paid_graph_dict = {'Free or Paid': ['Free', 'Paid'],\n",
    "                    'Average Rating':[average_for_lists(free_apps), average_for_lists(paid_apps)]}\n",
    "\n",
    "# Turning that dictionary into a dataframe to later graph\n",
    "free_paid_df = pd.DataFrame(free_paid_graph_dict)\n",
    "\n",
    "# Graphing the dataframe\n",
    "matplotlib.style.use('default')\n",
    "matplotlib.rcParams['font.size'] = 15\n",
    "free_paid_graph = free_paid_df.plot(figsize = (20, 10),\n",
    "            color = ['lightgreen', 'skyblue'],\n",
    "            kind = 'bar',\n",
    "            legend = False,\n",
    "            x = 'Free or Paid',\n",
    "            y = 'Average Rating',\n",
    "            title = 'Average Rating of Free and Paid Apps',\n",
    "            edgecolor = 'black')\n",
    "free_paid_graph.bar_label(free_paid_graph.containers[0]) #shows the value of the bars"
   ]
  },
  {
   "cell_type": "markdown",
   "metadata": {},
   "source": [
    "# Finding the average rating of user defined genres"
   ]
  },
  {
   "cell_type": "markdown",
   "metadata": {},
   "source": [
    "Create a function to take 3 genres and return the ratings in a list"
   ]
  },
  {
   "cell_type": "code",
   "execution_count": null,
   "metadata": {},
   "outputs": [],
   "source": [
    "def genre_ratings(g1, g2, g3):\n",
    "    # Set these as global variables because I use them later in a different cell\n",
    "    global genre1_list, genre2_list, genre3_list, inp1, inp2, inp3 \n",
    "\n",
    "    # Saving function parameters as user inputs to use in graph\n",
    "    inp1 = g1\n",
    "    inp2 = g2\n",
    "    inp3 = g3\n",
    "\n",
    "    # Create genre lists to hold the ratings of specified genres\n",
    "    genre1_list = []\n",
    "    genre2_list = []\n",
    "    genre3_list = []\n",
    "\n",
    "    # itterate over the rows and check for if the primary genre has a value of the user inputed value and adding that rating to the designated list\n",
    "    for index, row in df_main.iterrows():\n",
    "        rating = row[17]\n",
    "        genre_checker = row['Primary_Genre']\n",
    "        if genre_checker == g1 and row[17] > 0.0:\n",
    "            genre1_list.append(rating)\n",
    "        elif genre_checker == g2 and row[17] > 0.0:\n",
    "            genre2_list.append(rating)\n",
    "        elif genre_checker == g3 and row[17] > 0.0:\n",
    "            genre3_list.append(rating)"
   ]
  },
  {
   "cell_type": "markdown",
   "metadata": {},
   "source": [
    "Call the function with three genres and graph the data"
   ]
  },
  {
   "cell_type": "code",
   "execution_count": null,
   "metadata": {},
   "outputs": [],
   "source": [
    "# Call my funciton with 3 genres (you can put any genre thats in the data set)\n",
    "genre_ratings('Games', 'Utilities', 'Business')\n",
    "\n",
    "\n",
    "genre_dic = {'Genres': [inp1, inp2, inp3],\n",
    "                'Average Ratings':[average_for_lists(genre1_list), average_for_lists(genre2_list), average_for_lists(genre3_list)]}\n",
    "\n",
    "genre_df = pd.DataFrame(genre_dic)\n",
    "matplotlib.style.use('dark_background')\n",
    "matplotlib.rcParams['font.size'] = 15\n",
    "## Creates a bar graph using the information from the DataFrame\n",
    "genre_graph = genre_df.plot(figsize = (20, 10), \n",
    "            kind = 'bar',\n",
    "            title = 'Average Ratings of Selected Categories',\n",
    "            legend = False,\n",
    "            x = 'Genres',\n",
    "            y = 'Average Ratings',\n",
    "            color = ['blue', 'red', 'green'],\n",
    "            edgecolor = 'black')\n",
    "genre_graph.set_facecolor('gray')\n",
    "genre_graph.bar_label(genre_graph.containers[0]) #Graph labels to display the actual average of the genre"
   ]
  },
  {
   "cell_type": "markdown",
   "metadata": {},
   "source": [
    "# Calculating the average price of gaming apps"
   ]
  },
  {
   "cell_type": "code",
   "execution_count": null,
   "metadata": {},
   "outputs": [],
   "source": [
    "price_gaming_apps = []\n",
    "\n",
    "for row in apps_data[1:]:\n",
    "    genre = row[3]\n",
    "    try:\n",
    "        if float(row[10]) > 0 and genre == 'Games':\n",
    "            price_gaming_apps.append(float(row[10]))\n",
    "    except ValueError:\n",
    "        pass\n",
    "\n",
    "    \n",
    "avg_paid_apps = round(sum(price_gaming_apps) / len(price_gaming_apps), 2)\n",
    "most_expensive_game_app = max(price_gaming_apps)\n",
    "cheapest_game_app = min(price_gaming_apps)\n",
    "\n",
    "\n",
    "print(\"The average price of gaming apps is: \" + \"$\" + str(avg_paid_apps))\n",
    "print(\"The most expensive gaming app is: \" + \"$\" + str(most_expensive_game_app))\n",
    "print(\"The cheapest gaming app is: \" + \"$\" + str(cheapest_game_app))\n",
    "\n",
    "\n",
    "## Maybe make a graph showing the max, min and avg price?? I dunno yet"
   ]
  }
 ],
 "metadata": {
  "kernelspec": {
   "display_name": "Python 3.9.7 64-bit",
   "language": "python",
   "name": "python3"
  },
  "language_info": {
   "codemirror_mode": {
    "name": "ipython",
    "version": 3
   },
   "file_extension": ".py",
   "mimetype": "text/x-python",
   "name": "python",
   "nbconvert_exporter": "python",
   "pygments_lexer": "ipython3",
   "version": "3.9.7"
  },
  "orig_nbformat": 4,
  "vscode": {
   "interpreter": {
    "hash": "c48e784580535a0043e835f347c242c3ba8d520cc19d6dd73066c5c113ac8a1a"
   }
  }
 },
 "nbformat": 4,
 "nbformat_minor": 2
}
