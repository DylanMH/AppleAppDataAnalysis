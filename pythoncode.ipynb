{
 "cells": [
  {
   "cell_type": "markdown",
   "metadata": {},
   "source": [
    "# New Apprentice Python Project \n",
    "**Using the appleAppData data set found on Kaggle! https://www.kaggle.com/datasets/gauthamp10/apple-appstore-apps** "
   ]
  },
  {
   "cell_type": "markdown",
   "metadata": {},
   "source": [
    "```python\n",
    "Business Questions :\n",
    "1. What is the average rating of the FREE and NON-FREE apps\n",
    "2. What are the average ratings of common genres (gaming, business, navigation, etc)?\n",
    "3. What is the average, minimum and max price of gaming apps?\n",
    "```"
   ]
  },
  {
   "cell_type": "markdown",
   "metadata": {},
   "source": [
    "\n",
    "##### Importing Libraries, opening the dataset and cleaning it\n"
   ]
  },
  {
   "cell_type": "code",
   "execution_count": null,
   "metadata": {},
   "outputs": [],
   "source": [
    "import csv\n",
    "import pandas as pd\n",
    "import matplotlib.pyplot as plt\n",
    "import matplotlib\n",
    "import numpy as np\n",
    "\n",
    "df = pd.read_csv('appleAppData.csv')\n",
    "df_main = df.dropna() # Drops all NaN values\n",
    "df_main = df_main[['Primary_Genre', 'Price', 'Free', 'Average_User_Rating']] # Dropping all but the columns im using in this project"
   ]
  },
  {
   "cell_type": "markdown",
   "metadata": {},
   "source": [
    "Showing the dataset information and displaying a small table of the data"
   ]
  },
  {
   "cell_type": "code",
   "execution_count": 64,
   "metadata": {},
   "outputs": [
    {
     "name": "stdout",
     "output_type": "stream",
     "text": [
      "<class 'pandas.core.frame.DataFrame'>\n",
      "Int64Index: 585721 entries, 4 to 1230374\n",
      "Data columns (total 4 columns):\n",
      " #   Column               Non-Null Count   Dtype  \n",
      "---  ------               --------------   -----  \n",
      " 0   Primary_Genre        585721 non-null  object \n",
      " 1   Price                585721 non-null  float64\n",
      " 2   Free                 585721 non-null  bool   \n",
      " 3   Average_User_Rating  585721 non-null  float64\n",
      "dtypes: bool(1), float64(2), object(1)\n",
      "memory usage: 18.4+ MB\n"
     ]
    },
    {
     "data": {
      "text/html": [
       "<div>\n",
       "<style scoped>\n",
       "    .dataframe tbody tr th:only-of-type {\n",
       "        vertical-align: middle;\n",
       "    }\n",
       "\n",
       "    .dataframe tbody tr th {\n",
       "        vertical-align: top;\n",
       "    }\n",
       "\n",
       "    .dataframe thead th {\n",
       "        text-align: right;\n",
       "    }\n",
       "</style>\n",
       "<table border=\"1\" class=\"dataframe\">\n",
       "  <thead>\n",
       "    <tr style=\"text-align: right;\">\n",
       "      <th></th>\n",
       "      <th>Primary_Genre</th>\n",
       "      <th>Average_User_Rating</th>\n",
       "      <th>Free</th>\n",
       "      <th>Price</th>\n",
       "    </tr>\n",
       "  </thead>\n",
       "  <tbody>\n",
       "    <tr>\n",
       "      <th>4</th>\n",
       "      <td>Reference</td>\n",
       "      <td>0.00000</td>\n",
       "      <td>True</td>\n",
       "      <td>0.00</td>\n",
       "    </tr>\n",
       "    <tr>\n",
       "      <th>7</th>\n",
       "      <td>Book</td>\n",
       "      <td>0.00000</td>\n",
       "      <td>True</td>\n",
       "      <td>0.00</td>\n",
       "    </tr>\n",
       "    <tr>\n",
       "      <th>9</th>\n",
       "      <td>News</td>\n",
       "      <td>0.00000</td>\n",
       "      <td>True</td>\n",
       "      <td>0.00</td>\n",
       "    </tr>\n",
       "    <tr>\n",
       "      <th>11</th>\n",
       "      <td>Book</td>\n",
       "      <td>4.78902</td>\n",
       "      <td>True</td>\n",
       "      <td>0.00</td>\n",
       "    </tr>\n",
       "    <tr>\n",
       "      <th>13</th>\n",
       "      <td>Book</td>\n",
       "      <td>3.09524</td>\n",
       "      <td>False</td>\n",
       "      <td>0.99</td>\n",
       "    </tr>\n",
       "    <tr>\n",
       "      <th>14</th>\n",
       "      <td>Book</td>\n",
       "      <td>3.88333</td>\n",
       "      <td>False</td>\n",
       "      <td>4.99</td>\n",
       "    </tr>\n",
       "    <tr>\n",
       "      <th>15</th>\n",
       "      <td>Book</td>\n",
       "      <td>4.13253</td>\n",
       "      <td>False</td>\n",
       "      <td>4.99</td>\n",
       "    </tr>\n",
       "    <tr>\n",
       "      <th>18</th>\n",
       "      <td>Book</td>\n",
       "      <td>3.00000</td>\n",
       "      <td>True</td>\n",
       "      <td>0.00</td>\n",
       "    </tr>\n",
       "    <tr>\n",
       "      <th>21</th>\n",
       "      <td>Games</td>\n",
       "      <td>5.00000</td>\n",
       "      <td>True</td>\n",
       "      <td>0.00</td>\n",
       "    </tr>\n",
       "    <tr>\n",
       "      <th>23</th>\n",
       "      <td>Games</td>\n",
       "      <td>0.00000</td>\n",
       "      <td>False</td>\n",
       "      <td>0.99</td>\n",
       "    </tr>\n",
       "  </tbody>\n",
       "</table>\n",
       "</div>"
      ],
      "text/plain": [
       "   Primary_Genre  Average_User_Rating   Free  Price\n",
       "4      Reference              0.00000   True   0.00\n",
       "7           Book              0.00000   True   0.00\n",
       "9           News              0.00000   True   0.00\n",
       "11          Book              4.78902   True   0.00\n",
       "13          Book              3.09524  False   0.99\n",
       "14          Book              3.88333  False   4.99\n",
       "15          Book              4.13253  False   4.99\n",
       "18          Book              3.00000   True   0.00\n",
       "21         Games              5.00000   True   0.00\n",
       "23         Games              0.00000  False   0.99"
      ]
     },
     "execution_count": 64,
     "metadata": {},
     "output_type": "execute_result"
    }
   ],
   "source": [
    "# Displaying dataset information\n",
    "df_main.info()\n",
    "\n",
    "# Showing a small table of some of the data I will be analyzing\n",
    "df_table = df_main[['Primary_Genre', 'Average_User_Rating', 'Free', 'Price']]\n",
    "df_table.head(10)"
   ]
  },
  {
   "cell_type": "markdown",
   "metadata": {},
   "source": [
    "# Creating a function to find the average of free and paid apps!"
   ]
  },
  {
   "cell_type": "markdown",
   "metadata": {},
   "source": [
    "Defining the app_ratings function. This function will itterate through the data and add rating values to the free_apps and paid_apps list if they are free or paid"
   ]
  },
  {
   "cell_type": "code",
   "execution_count": null,
   "metadata": {},
   "outputs": [],
   "source": [
    "def app_ratings():\n",
    "    global free_apps, paid_apps\n",
    "    free_apps = []\n",
    "    paid_apps = []\n",
    "\n",
    "    for index, row in df_main.iterrows():\n",
    "        if row[3] > 0:\n",
    "            rating = row[3] \n",
    "            free_checker = row[2] # Set a variable to hold the value of the free column from the dataset\n",
    "            if free_checker == True:\n",
    "                free_apps.append(rating) # Adds the rating value to the free apps list only the free_checker returns True\n",
    "            else: \n",
    "                paid_apps.append(rating) # Adds the rating value to the paid apps list if free_checker returns False"
   ]
  },
  {
   "cell_type": "markdown",
   "metadata": {},
   "source": [
    "Here I create a function to make finding the average of lists easier. I also call my function and display a graph using the information found\n"
   ]
  },
  {
   "cell_type": "code",
   "execution_count": null,
   "metadata": {},
   "outputs": [],
   "source": [
    "           \n",
    "# Create a function thats accepts a list and returns the average value of that list \n",
    "def average_for_lists(list):\n",
    "    average = round(sum(list) / len(list), 4)\n",
    "    return average\n",
    "\n",
    "# Calling my loop function to find the ratings from free and paid apps\n",
    "app_ratings() ##Calling my loop function to find the ratings from free and paid apps\n",
    "\n",
    "# Create a dictionary to hold the found data\n",
    "free_paid_graph_dict = {'Free or Paid': ['Free', 'Paid'],\n",
    "                    'Average Rating':[average_for_lists(free_apps), average_for_lists(paid_apps)]}\n",
    "\n",
    "# Turning that dictionary into a dataframe to later graph\n",
    "free_paid_df = pd.DataFrame(free_paid_graph_dict)\n",
    "\n",
    "# Graphing the dataframe\n",
    "matplotlib.style.use('default')\n",
    "matplotlib.rcParams['font.size'] = 15\n",
    "free_paid_graph = free_paid_df.plot(figsize = (23, 10),\n",
    "            color = ['lightgreen', 'lightblue'],\n",
    "            kind = 'bar',\n",
    "            legend = False,\n",
    "            x = 'Free or Paid',\n",
    "            y = 'Average Rating',\n",
    "            title = 'Average Rating of Free and Paid Apps',\n",
    "            edgecolor = 'black')\n",
    "free_paid_graph.bar_label(free_paid_graph.containers[0]) #shows the value of the bars"
   ]
  },
  {
   "cell_type": "markdown",
   "metadata": {},
   "source": [
    "# Finding the average rating of user defined genres"
   ]
  },
  {
   "cell_type": "markdown",
   "metadata": {},
   "source": [
    "Create a function to take 3 genres and return the ratings in a list"
   ]
  },
  {
   "cell_type": "code",
   "execution_count": null,
   "metadata": {},
   "outputs": [],
   "source": [
    "def genre_ratings(g1, g2, g3):\n",
    "    # Set these as global variables because I use them later in a different cell\n",
    "    global genre1_list, genre2_list, genre3_list, inp1, inp2, inp3 \n",
    "\n",
    "    # Saving function parameters as user inputs to use in graph\n",
    "    inp1 = g1\n",
    "    inp2 = g2\n",
    "    inp3 = g3\n",
    "\n",
    "    # Create genre lists to hold the ratings of specified genres\n",
    "    genre1_list = []\n",
    "    genre2_list = []\n",
    "    genre3_list = []\n",
    "\n",
    "    # itterate over the rows and check for if the primary genre has a value of the user inputed value and adding that rating to the designated list\n",
    "    for index, row in df_main.iterrows():\n",
    "        rating = row[3]\n",
    "        genre_checker = row[0]\n",
    "        if genre_checker == g1 and row[3] > 0.0:\n",
    "            genre1_list.append(rating)\n",
    "        elif genre_checker == g2 and row[3] > 0.0:\n",
    "            genre2_list.append(rating)\n",
    "        elif genre_checker == g3 and row[3] > 0.0:\n",
    "            genre3_list.append(rating)"
   ]
  },
  {
   "cell_type": "code",
   "execution_count": 62,
   "metadata": {},
   "outputs": [
    {
     "data": {
      "text/plain": [
       "array(['Reference', 'Book', 'News', 'Games', 'Lifestyle', 'Education',\n",
       "       'Medical', 'Food & Drink', 'Shopping', 'Productivity',\n",
       "       'Entertainment', 'Photo & Video', 'Travel', 'Business',\n",
       "       'Social Networking', 'Music', 'Utilities', 'Health & Fitness',\n",
       "       'Magazines & Newspapers', 'Stickers', 'Sports', 'Navigation',\n",
       "       'Finance', 'Graphics & Design', 'Weather', 'Developer Tools'],\n",
       "      dtype=object)"
      ]
     },
     "execution_count": 62,
     "metadata": {},
     "output_type": "execute_result"
    }
   ],
   "source": [
    "# Display all the genres found in the dataset\n",
    "df_main.Primary_Genre.unique()"
   ]
  },
  {
   "cell_type": "markdown",
   "metadata": {},
   "source": [
    "Using the created function 'genre_ratings' to itterate through 3 genres and displaying a graph with the average ratings of those genres"
   ]
  },
  {
   "cell_type": "code",
   "execution_count": 63,
   "metadata": {},
   "outputs": [
    {
     "data": {
      "text/plain": [
       "[Text(0, 0, '4.211'), Text(0, 0, '4.1204'), Text(0, 0, '3.9467')]"
      ]
     },
     "execution_count": 63,
     "metadata": {},
     "output_type": "execute_result"
    },
    {
     "data": {
      "image/png": "[encoded data removed]",
      "text/plain": [
       "<Figure size 2300x1000 with 1 Axes>"
      ]
     },
     "metadata": {},
     "output_type": "display_data"
    }
   ],
   "source": [
    "# Call my funciton with 3 genres (you can put any genre thats in the data set)\n",
    "genre_ratings('Social Networking', 'Music', 'Weather')\n",
    "\n",
    "# Putting the data found in the function into dictionary\n",
    "genre_dic = {'Genres': [inp1, inp2, inp3],\n",
    "                'Average Ratings':[average_for_lists(genre1_list), average_for_lists(genre2_list), average_for_lists(genre3_list)]}\n",
    "                  \n",
    "# Creating a dataframe from the dictionary\n",
    "genre_df = pd.DataFrame(genre_dic)\n",
    "# Styling the graph a little\n",
    "matplotlib.style.use('dark_background')\n",
    "matplotlib.rcParams['font.size'] = 15\n",
    "\n",
    "# Creates a bar graph using the information from the DataFrame\n",
    "genre_graph = genre_df.plot(figsize = (23, 10), \n",
    "            kind = 'bar',\n",
    "            title = 'Average Ratings of Selected Categories',\n",
    "            legend = False,\n",
    "            x = 'Genres',\n",
    "            y = 'Average Ratings',\n",
    "            color = ['blue', 'red', 'green'],\n",
    "            edgecolor = 'black')\n",
    "genre_graph.set_facecolor('gray')\n",
    "genre_graph.bar_label(genre_graph.containers[0])# Graph labels to display the actual average of the genre"
   ]
  },
  {
   "cell_type": "markdown",
   "metadata": {},
   "source": [
    "# Create a function that returns the min, max and average price of a specified genre"
   ]
  },
  {
   "cell_type": "code",
   "execution_count": null,
   "metadata": {},
   "outputs": [],
   "source": [
    "# Create a function that takes a genre type as a parameter and places pricing values into a list\n",
    "def genre_pricing(genre):\n",
    "    global inp1\n",
    "    inp1 = genre\n",
    "    genre_list = []\n",
    "\n",
    "    for index, row in df_main.iterrows():\n",
    "        genre_checker = row[0]\n",
    "        price = row[1]\n",
    "        if genre_checker == genre and price > 0:\n",
    "            genre_list.append(price)    \n",
    "            \n",
    "    # Create global variable in the function that hold min, max and avg price\n",
    "    global genre_min_price, genre_max_price, genre_avg\n",
    "    genre_min_price = min(genre_list)\n",
    "    genre_max_price = max(genre_list)\n",
    "    genre_avg = sum(genre_list) / len(genre_list)\n",
    "\n",
    "    "
   ]
  },
  {
   "cell_type": "markdown",
   "metadata": {},
   "source": [
    "##### Calling the function and creating a horizontal graph to display the average, max and minimum price of a specified genre"
   ]
  },
  {
   "cell_type": "code",
   "execution_count": null,
   "metadata": {},
   "outputs": [],
   "source": [
    "# Calling my function\n",
    "genre_pricing('Games')\n",
    "# Creating a dictionary to hold the data found in the function\n",
    "genre_pricing_dict = {'Genre': [inp1 + ' Min Price', inp1 + ' Max Price', inp1 + ' Avg Price'],\n",
    "                        'Pricing Values':[genre_min_price, genre_max_price, genre_avg]}\n",
    "                        \n",
    "# Putting the dictionary into a datafram\n",
    "pricing_df = pd.DataFrame(genre_pricing_dict)\n",
    "\n",
    "# Creating a graph from the dataframe\n",
    "pricing_graph = pricing_df.plot.barh(x = 'Genre', y = 'Pricing Values', figsize = (23, 10), legend = False)\n",
    "pricing_graph.yaxis.set_label_text(\"\") # Remove the y label(genre) from the graph\n",
    "pricing_graph.bar_label(pricing_graph.containers[0], fmt = '$%.2f', color = 'black', padding = 3) # Display the values next to the bars and formatting them to dislay $ \n",
    "\n",
    "\n"
   ]
  }
 ],
 "metadata": {
  "kernelspec": {
   "display_name": "Python 3.9.7 64-bit",
   "language": "python",
   "name": "python3"
  },
  "language_info": {
   "codemirror_mode": {
    "name": "ipython",
    "version": 3
   },
   "file_extension": ".py",
   "mimetype": "text/x-python",
   "name": "python",
   "nbconvert_exporter": "python",
   "pygments_lexer": "ipython3",
   "version": "3.9.7"
  },
  "orig_nbformat": 4,
  "vscode": {
   "interpreter": {
    "hash": "c48e784580535a0043e835f347c242c3ba8d520cc19d6dd73066c5c113ac8a1a"
   }
  }
 },
 "nbformat": 4,
 "nbformat_minor": 2
}
