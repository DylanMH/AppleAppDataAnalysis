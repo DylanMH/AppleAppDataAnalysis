{
 "cells": [
  {
   "cell_type": "markdown",
   "metadata": {},
   "source": [
    "# New Apprentice Python Project \n",
    "**Using the appleAppData data set found on Kaggle! https://www.kaggle.com/datasets/gauthamp10/apple-appstore-apps** "
   ]
  },
  {
   "cell_type": "markdown",
   "metadata": {},
   "source": [
    "```python\n",
    "Business Questions :\n",
    "1. What is the average rating of the FREE and NON-FREE apps\n",
    "2. What are the average ratings of common genres (gaming, business, navigation, etc)?\n",
    "3. What is the average, minimum and max price of gaming apps?\n",
    "```"
   ]
  },
  {
   "cell_type": "markdown",
   "metadata": {},
   "source": [
    "\n",
    "##### Importing Libraries, Opening the dataset and cleaning it\n"
   ]
  },
  {
   "cell_type": "code",
   "execution_count": null,
   "metadata": {},
   "outputs": [],
   "source": [
    "import csv\n",
    "import pandas as pd\n",
    "import matplotlib.pyplot as plt\n",
    "import matplotlib\n",
    "import numpy as np\n",
    "\n",
    "df = pd.read_csv('appleAppData.csv')\n",
    "df_main = df.dropna()"
   ]
  },
  {
   "cell_type": "markdown",
   "metadata": {},
   "source": [
    "Showing the dataset information and displaying a small table of the data"
   ]
  },
  {
   "cell_type": "code",
   "execution_count": 73,
   "metadata": {},
   "outputs": [
    {
     "name": "stdout",
     "output_type": "stream",
     "text": [
      "<class 'pandas.core.frame.DataFrame'>\n",
      "Int64Index: 585721 entries, 4 to 1230374\n",
      "Data columns (total 21 columns):\n",
      " #   Column                   Non-Null Count   Dtype  \n",
      "---  ------                   --------------   -----  \n",
      " 0   App_Id                   585721 non-null  object \n",
      " 1   App_Name                 585721 non-null  object \n",
      " 2   AppStore_Url             585721 non-null  object \n",
      " 3   Primary_Genre            585721 non-null  object \n",
      " 4   Content_Rating           585721 non-null  object \n",
      " 5   Size_Bytes               585721 non-null  float64\n",
      " 6   Required_IOS_Version     585721 non-null  object \n",
      " 7   Released                 585721 non-null  object \n",
      " 8   Updated                  585721 non-null  object \n",
      " 9   Version                  585721 non-null  object \n",
      " 10  Price                    585721 non-null  float64\n",
      " 11  Currency                 585721 non-null  object \n",
      " 12  Free                     585721 non-null  bool   \n",
      " 13  DeveloperId              585721 non-null  int64  \n",
      " 14  Developer                585721 non-null  object \n",
      " 15  Developer_Url            585721 non-null  object \n",
      " 16  Developer_Website        585721 non-null  object \n",
      " 17  Average_User_Rating      585721 non-null  float64\n",
      " 18  Reviews                  585721 non-null  int64  \n",
      " 19  Current_Version_Score    585721 non-null  float64\n",
      " 20  Current_Version_Reviews  585721 non-null  int64  \n",
      "dtypes: bool(1), float64(4), int64(3), object(13)\n",
      "memory usage: 94.4+ MB\n"
     ]
    },
    {
     "data": {
      "text/html": [
       "<div>\n",
       "<style scoped>\n",
       "    .dataframe tbody tr th:only-of-type {\n",
       "        vertical-align: middle;\n",
       "    }\n",
       "\n",
       "    .dataframe tbody tr th {\n",
       "        vertical-align: top;\n",
       "    }\n",
       "\n",
       "    .dataframe thead th {\n",
       "        text-align: right;\n",
       "    }\n",
       "</style>\n",
       "<table border=\"1\" class=\"dataframe\">\n",
       "  <thead>\n",
       "    <tr style=\"text-align: right;\">\n",
       "      <th></th>\n",
       "      <th>Primary_Genre</th>\n",
       "      <th>Average_User_Rating</th>\n",
       "      <th>Free</th>\n",
       "    </tr>\n",
       "  </thead>\n",
       "  <tbody>\n",
       "    <tr>\n",
       "      <th>4</th>\n",
       "      <td>Reference</td>\n",
       "      <td>0.00000</td>\n",
       "      <td>True</td>\n",
       "    </tr>\n",
       "    <tr>\n",
       "      <th>7</th>\n",
       "      <td>Book</td>\n",
       "      <td>0.00000</td>\n",
       "      <td>True</td>\n",
       "    </tr>\n",
       "    <tr>\n",
       "      <th>9</th>\n",
       "      <td>News</td>\n",
       "      <td>0.00000</td>\n",
       "      <td>True</td>\n",
       "    </tr>\n",
       "    <tr>\n",
       "      <th>11</th>\n",
       "      <td>Book</td>\n",
       "      <td>4.78902</td>\n",
       "      <td>True</td>\n",
       "    </tr>\n",
       "    <tr>\n",
       "      <th>13</th>\n",
       "      <td>Book</td>\n",
       "      <td>3.09524</td>\n",
       "      <td>False</td>\n",
       "    </tr>\n",
       "    <tr>\n",
       "      <th>14</th>\n",
       "      <td>Book</td>\n",
       "      <td>3.88333</td>\n",
       "      <td>False</td>\n",
       "    </tr>\n",
       "    <tr>\n",
       "      <th>15</th>\n",
       "      <td>Book</td>\n",
       "      <td>4.13253</td>\n",
       "      <td>False</td>\n",
       "    </tr>\n",
       "    <tr>\n",
       "      <th>18</th>\n",
       "      <td>Book</td>\n",
       "      <td>3.00000</td>\n",
       "      <td>True</td>\n",
       "    </tr>\n",
       "    <tr>\n",
       "      <th>21</th>\n",
       "      <td>Games</td>\n",
       "      <td>5.00000</td>\n",
       "      <td>True</td>\n",
       "    </tr>\n",
       "    <tr>\n",
       "      <th>23</th>\n",
       "      <td>Games</td>\n",
       "      <td>0.00000</td>\n",
       "      <td>False</td>\n",
       "    </tr>\n",
       "  </tbody>\n",
       "</table>\n",
       "</div>"
      ],
      "text/plain": [
       "   Primary_Genre  Average_User_Rating   Free\n",
       "4      Reference              0.00000   True\n",
       "7           Book              0.00000   True\n",
       "9           News              0.00000   True\n",
       "11          Book              4.78902   True\n",
       "13          Book              3.09524  False\n",
       "14          Book              3.88333  False\n",
       "15          Book              4.13253  False\n",
       "18          Book              3.00000   True\n",
       "21         Games              5.00000   True\n",
       "23         Games              0.00000  False"
      ]
     },
     "execution_count": 73,
     "metadata": {},
     "output_type": "execute_result"
    }
   ],
   "source": [
    "## Displaying data set information\n",
    "df_main.info()\n",
    "\n",
    "## Showing a small table of some of the data I will be analyzing\n",
    "df_table = df_main[['Primary_Genre', 'Average_User_Rating', 'Free']]\n",
    "df_table.head(10)"
   ]
  },
  {
   "cell_type": "markdown",
   "metadata": {},
   "source": [
    "# Creating a function to find the average of free and paid apps!"
   ]
  },
  {
   "cell_type": "markdown",
   "metadata": {},
   "source": [
    "Creating the app_rating function to itterate through free and paid apps"
   ]
  },
  {
   "cell_type": "code",
   "execution_count": null,
   "metadata": {},
   "outputs": [],
   "source": [
    "def app_ratings():\n",
    "    global free_apps, paid_apps\n",
    "    free_apps = []\n",
    "    paid_apps = []\n",
    "\n",
    "    for index, row in df_main.iterrows():\n",
    "        if row[17] > 0:\n",
    "            rating = row[17]\n",
    "            free_checker = row[12]\n",
    "            if free_checker == True:\n",
    "                free_apps.append(rating)\n",
    "            else: \n",
    "                paid_apps.append(rating)"
   ]
  },
  {
   "cell_type": "markdown",
   "metadata": {},
   "source": [
    "Creating an average finder function for lists to keep code cleaner. Calling app_ratings function to create a graph of the data found!\n"
   ]
  },
  {
   "cell_type": "code",
   "execution_count": null,
   "metadata": {},
   "outputs": [],
   "source": [
    "           \n",
    "## Create a function to find the average of ratings and return that value\n",
    "def average_for_lists(sum_list, len_list):\n",
    "    average = round(sum(sum_list) / len(len_list), 4)\n",
    "    return average\n",
    "\n",
    "\n",
    "app_ratings() ##Calling my loop function to find the ratings from free and paid apps\n",
    "\n",
    "free_paid_graph_dict = {'Free or Paid': ['Free', 'Paid'],\n",
    "                    'Average Rating':[average_for_lists(free_apps, free_apps), average_for_lists(paid_apps, paid_apps)]}\n",
    "\n",
    "free_paid_df = pd.DataFrame(free_paid_graph_dict)\n",
    "\n",
    "## Graphing the dataframe\n",
    "matplotlib.style.use('default')\n",
    "matplotlib.rcParams['font.size'] = 15\n",
    "free_paid_graph = free_paid_df.plot(figsize = (20, 10),\n",
    "            color = ['lightgreen', 'skyblue'],\n",
    "            kind = 'bar',\n",
    "            legend = False,\n",
    "            x = 'Free or Paid',\n",
    "            y = 'Average Rating',\n",
    "            title = 'Average Rating of Free and Paid Apps',\n",
    "            edgecolor = 'black')\n",
    "free_paid_graph.bar_label(free_paid_graph.containers[0]) #shows the value of the bars"
   ]
  },
  {
   "cell_type": "markdown",
   "metadata": {},
   "source": [
    "# **Average Ratings of Common Genres**"
   ]
  },
  {
   "cell_type": "code",
   "execution_count": 71,
   "metadata": {},
   "outputs": [],
   "source": [
    "def genre_ratings(g1, g2, g3):\n",
    "    global genre1_list, genre2_list, genre3_list, inp1, inp2, inp3\n",
    "    # Saving category inputs as user inputs to use in graph\n",
    "    inp1 = g1\n",
    "    inp2 = g2\n",
    "    inp3 = g3\n",
    "    # Sets the value of user category to data column\n",
    "    #genre1 = df_main.loc[df_main['Primary_Genre'] == g1]\n",
    "    #genre2 = df_main.loc[df_main['Primary_Genre'] == g2]\n",
    "    #genre3 = df_main.loc[df_main['Primary_Genre'] == g3]\n",
    "\n",
    "    genre1_list = []\n",
    "    genre2_list = []\n",
    "    genre3_list = []\n",
    "\n",
    "    for index, row in df_main.iterrows():\n",
    "        rating = row[17]\n",
    "        genre_checker = row['Primary_Genre']\n",
    "        if genre_checker == g1 and row[17] > 0.0:\n",
    "            genre1_list.append(rating)\n",
    "        elif genre_checker == g2 and row[17] > 0.0:\n",
    "            genre2_list.append(rating)\n",
    "        elif genre_checker == g3 and row[17] > 0.0:\n",
    "            genre3_list.append(rating)"
   ]
  },
  {
   "cell_type": "code",
   "execution_count": 74,
   "metadata": {},
   "outputs": [
    {
     "data": {
      "text/plain": [
       "[Text(0, 0, '3.967'), Text(0, 0, '3.8129'), Text(0, 0, '4.1064')]"
      ]
     },
     "execution_count": 74,
     "metadata": {},
     "output_type": "execute_result"
    },
    {
     "data": {
      "image/png": "[encoded data removed]",
      "text/plain": [
       "<Figure size 2000x1000 with 1 Axes>"
      ]
     },
     "metadata": {},
     "output_type": "display_data"
    }
   ],
   "source": [
    "genre_ratings('Entertainment', 'Utilities', 'Reference')\n",
    "\n",
    "genre_dic = {'Genres': [inp1, inp2, inp3],\n",
    "                'Average Ratings':[average_for_lists(genre1_list, genre1_list), average_for_lists(genre2_list, genre2_list), average_for_lists(genre3_list, genre3_list)]}\n",
    "\n",
    "genre_df = pd.DataFrame(genre_dic)\n",
    "matplotlib.style.use('dark_background')\n",
    "matplotlib.rcParams['font.size'] = 15\n",
    "## Creates a bar graph using the information from the DataFrame\n",
    "genre_graph = genre_df.plot(figsize = (20, 10), \n",
    "            kind = 'bar',\n",
    "            title = 'Average Ratings of Selected Categories',\n",
    "            legend = False,\n",
    "            x = 'Genres',\n",
    "            y = 'Average Ratings',\n",
    "            color = ['blue', 'red', 'green'],\n",
    "            edgecolor = 'black')\n",
    "genre_graph.set_facecolor('gray')\n",
    "genre_graph.bar_label(genre_graph.containers[0]) #Graph labels to display the actual average of the genre"
   ]
  },
  {
   "cell_type": "code",
   "execution_count": null,
   "metadata": {},
   "outputs": [],
   "source": [
    "\n",
    "# Creating list variables to hold iterated data\n",
    "games_genre_rating = []\n",
    "business_genre_rating = []\n",
    "navigation_genre_rating = []\n",
    "entertainment_genre_rating = []\n",
    "\n",
    "for row in apps_data[1:]:\n",
    "    rating = float(row[17])\n",
    "    genre = row[3]\n",
    "\n",
    "    if genre == 'Games' and row[17] > '0.0':\n",
    "        games_genre_rating.append(rating)\n",
    "    elif genre == 'Business' and row[17] > '0.0':\n",
    "        business_genre_rating.append(rating)\n",
    "    elif genre == 'Navigation' and row[17] > '0.0':\n",
    "        navigation_genre_rating.append(rating)\n",
    "    elif genre == 'Entertainment' and row[17] > '0.0':\n",
    "        entertainment_genre_rating.append(rating)\n",
    "\n",
    "## Creating a graph dictionary to hold the data that I want to display\n",
    "graph_dict = { 'Genres':['Gaming', 'Business', 'Navigation', 'Entertainment'],\n",
    "                'Average Rankings':[average_for_lists(sum(games_genre_rating), len(games_genre_rating)), average_for_lists(sum(business_genre_rating), len(business_genre_rating)), average_for_lists(sum(navigation_genre_rating), len(navigation_genre_rating)), average_for_lists(sum(entertainment_genre_rating), len(entertainment_genre_rating))]}\n",
    "\n",
    "## Creating the DataFrame using the dictionary I created\n",
    "df = pd.DataFrame(graph_dict)\n",
    "matplotlib.style.use('dark_background')\n",
    "matplotlib.rcParams['font.size'] = 15\n",
    "## Creates a bar graph using the information from the DataFrame\n",
    "graph = df.plot(figsize = (20, 10), \n",
    "            kind = 'bar',\n",
    "            title = 'Average Ratings of Common Categories',\n",
    "            legend = False,\n",
    "            x = 'Genres',\n",
    "            y = 'Average Rankings',\n",
    "            color = ['blue', 'red', 'green', 'yellow'],\n",
    "            edgecolor = 'black')\n",
    "graph.bar_label(graph.containers[0]) #Graph labels to display the actual average of the genre\n",
    "graph.set_facecolor('gray')"
   ]
  },
  {
   "cell_type": "markdown",
   "metadata": {},
   "source": [
    "# Calculating the average price of gaming apps"
   ]
  },
  {
   "cell_type": "code",
   "execution_count": null,
   "metadata": {},
   "outputs": [],
   "source": [
    "price_gaming_apps = []\n",
    "\n",
    "for row in apps_data[1:]:\n",
    "    genre = row[3]\n",
    "    try:\n",
    "        if float(row[10]) > 0 and genre == 'Games':\n",
    "            price_gaming_apps.append(float(row[10]))\n",
    "    except ValueError:\n",
    "        pass\n",
    "\n",
    "    \n",
    "avg_paid_apps = round(sum(price_gaming_apps) / len(price_gaming_apps), 2)\n",
    "most_expensive_game_app = max(price_gaming_apps)\n",
    "cheapest_game_app = min(price_gaming_apps)\n",
    "\n",
    "\n",
    "print(\"The average price of gaming apps is: \" + \"$\" + str(avg_paid_apps))\n",
    "print(\"The most expensive gaming app is: \" + \"$\" + str(most_expensive_game_app))\n",
    "print(\"The cheapest gaming app is: \" + \"$\" + str(cheapest_game_app))\n",
    "\n",
    "\n",
    "## Maybe make a graph showing the max, min and avg price?? I dunno yet"
   ]
  }
 ],
 "metadata": {
  "kernelspec": {
   "display_name": "Python 3.9.7 64-bit",
   "language": "python",
   "name": "python3"
  },
  "language_info": {
   "codemirror_mode": {
    "name": "ipython",
    "version": 3
   },
   "file_extension": ".py",
   "mimetype": "text/x-python",
   "name": "python",
   "nbconvert_exporter": "python",
   "pygments_lexer": "ipython3",
   "version": "3.9.7"
  },
  "orig_nbformat": 4,
  "vscode": {
   "interpreter": {
    "hash": "c48e784580535a0043e835f347c242c3ba8d520cc19d6dd73066c5c113ac8a1a"
   }
  }
 },
 "nbformat": 4,
 "nbformat_minor": 2
}
