{
 "cells": [
  {
   "cell_type": "markdown",
   "metadata": {},
   "source": [
    "# New Apprentice Python Project \n",
    "**Using the appleAppData data set found on Kaggle! https://www.kaggle.com/datasets/gauthamp10/apple-appstore-apps** "
   ]
  },
  {
   "cell_type": "markdown",
   "metadata": {},
   "source": [
    "```python\n",
    "Business Questions :\n",
    "1. What is the average rating of the FREE and NON-FREE apps\n",
    "2. What are the average ratings of common genres (gaming, business, navigation, etc)?\n",
    "3. What is the average, minimum and max price of gaming apps?\n",
    "```"
   ]
  },
  {
   "cell_type": "markdown",
   "metadata": {},
   "source": [
    "\n",
    "##### Importing Libraries, Opening the dataset and cleaning it\n"
   ]
  },
  {
   "cell_type": "code",
   "execution_count": null,
   "metadata": {},
   "outputs": [],
   "source": [
    "import csv\n",
    "import pandas as pd\n",
    "import matplotlib.pyplot as plt\n",
    "import matplotlib\n",
    "import numpy as np\n",
    "\n",
    "df = pd.read_csv('appleAppData.csv')\n",
    "df_main = df.dropna()"
   ]
  },
  {
   "cell_type": "markdown",
   "metadata": {},
   "source": [
    "Showing the dataset information and displaying a small table of the data"
   ]
  },
  {
   "cell_type": "code",
   "execution_count": null,
   "metadata": {},
   "outputs": [],
   "source": [
    "df_main.info()\n",
    "\n",
    "df_main.head(5)"
   ]
  },
  {
   "cell_type": "markdown",
   "metadata": {},
   "source": [
    "Creating a app rating function to call later in the code"
   ]
  },
  {
   "cell_type": "code",
   "execution_count": 15,
   "metadata": {},
   "outputs": [],
   "source": [
    "def app_ratings():\n",
    "    global free_apps, paid_apps\n",
    "    free_apps = []\n",
    "    paid_apps = []\n",
    "\n",
    "    for index, row in df_main.iterrows():\n",
    "        if row[17] > 0:\n",
    "            rating = row[17]\n",
    "            free_checker = row[12]\n",
    "            if free_checker == True:\n",
    "                free_apps.append(rating)\n",
    "            else: \n",
    "                paid_apps.append(rating)"
   ]
  },
  {
   "cell_type": "markdown",
   "metadata": {},
   "source": [
    "\n",
    "# **Finding the average rating of free apps and non free apps!**\n"
   ]
  },
  {
   "cell_type": "code",
   "execution_count": 16,
   "metadata": {},
   "outputs": [
    {
     "data": {
      "text/plain": [
       "[Text(0, 0, '4.124'), Text(0, 0, '3.8252')]"
      ]
     },
     "execution_count": 16,
     "metadata": {},
     "output_type": "execute_result"
    },
    {
     "data": {
      "image/png": "[encoded data removed]",
      "text/plain": [
       "<Figure size 1440x720 with 1 Axes>"
      ]
     },
     "metadata": {
      "needs_background": "light"
     },
     "output_type": "display_data"
    }
   ],
   "source": [
    "           \n",
    "## Create a function to find the average of ratings and return that value\n",
    "def average_for_lists(sum_list, len_list):\n",
    "    average = round(sum_list / len_list, 4)\n",
    "    return average\n",
    "\n",
    "\n",
    "app_ratings() ##Calling my loop function to find the ratings from free and paid apps\n",
    "\n",
    "free_paid_graph_dict = {'Free or Paid': ['Free', 'Paid'],\n",
    "                    'Average Rating':[average_for_lists(sum(free_apps), len(free_apps)), average_for_lists(sum(paid_apps), len(paid_apps))]}\n",
    "\n",
    "free_paid_df = pd.DataFrame(free_paid_graph_dict)\n",
    "\n",
    "## Graphing the dataframe\n",
    "matplotlib.style.use('default')\n",
    "matplotlib.rcParams['font.size'] = 15\n",
    "free_paid_graph = free_paid_df.plot(figsize = (20, 10),\n",
    "            color = ['lightgreen', 'skyblue'],\n",
    "            kind = 'bar',\n",
    "            legend = False,\n",
    "            x = 'Free or Paid',\n",
    "            y = 'Average Rating',\n",
    "            title = 'Average Rating of Free and Paid Apps',\n",
    "            edgecolor = 'black')\n",
    "free_paid_graph.bar_label(free_paid_graph.containers[0]) #shows the value of the bars"
   ]
  },
  {
   "cell_type": "markdown",
   "metadata": {},
   "source": [
    "# **Average Ratings of Common Genres**"
   ]
  },
  {
   "cell_type": "code",
   "execution_count": null,
   "metadata": {},
   "outputs": [],
   "source": [
    "\n",
    "# Creating list variables to hold iterated data\n",
    "games_genre_rating = []\n",
    "business_genre_rating = []\n",
    "navigation_genre_rating = []\n",
    "entertainment_genre_rating = []\n",
    "\n",
    "for row in apps_data[1:]:\n",
    "    rating = float(row[17])\n",
    "    genre = row[3]\n",
    "\n",
    "    if genre == 'Games' and row[17] > '0.0':\n",
    "        games_genre_rating.append(rating)\n",
    "    elif genre == 'Business' and row[17] > '0.0':\n",
    "        business_genre_rating.append(rating)\n",
    "    elif genre == 'Navigation' and row[17] > '0.0':\n",
    "        navigation_genre_rating.append(rating)\n",
    "    elif genre == 'Entertainment' and row[17] > '0.0':\n",
    "        entertainment_genre_rating.append(rating)\n",
    "\n",
    "## Creating a graph dictionary to hold the data that I want to display\n",
    "graph_dict = { 'Genres':['Gaming', 'Business', 'Navigation', 'Entertainment'],\n",
    "                'Average Rankings':[average_for_lists(sum(games_genre_rating), len(games_genre_rating)), average_for_lists(sum(business_genre_rating), len(business_genre_rating)), average_for_lists(sum(navigation_genre_rating), len(navigation_genre_rating)), average_for_lists(sum(entertainment_genre_rating), len(entertainment_genre_rating))]}\n",
    "\n",
    "## Creating the DataFrame using the dictionary I created\n",
    "df = pd.DataFrame(graph_dict)\n",
    "matplotlib.style.use('dark_background')\n",
    "matplotlib.rcParams['font.size'] = 15\n",
    "## Creates a bar graph using the information from the DataFrame\n",
    "graph = df.plot(figsize = (20, 10), \n",
    "            kind = 'bar',\n",
    "            title = 'Average Ratings of Common Categories',\n",
    "            legend = False,\n",
    "            x = 'Genres',\n",
    "            y = 'Average Rankings',\n",
    "            color = ['blue', 'red', 'green', 'yellow'],\n",
    "            edgecolor = 'black')\n",
    "graph.bar_label(graph.containers[0]) #Graph labels to display the actual average of the genre\n",
    "graph.set_facecolor('gray')"
   ]
  },
  {
   "cell_type": "markdown",
   "metadata": {},
   "source": [
    "# Calculating the average price of gaming apps"
   ]
  },
  {
   "cell_type": "code",
   "execution_count": null,
   "metadata": {},
   "outputs": [],
   "source": [
    "price_gaming_apps = []\n",
    "\n",
    "for row in apps_data[1:]:\n",
    "    genre = row[3]\n",
    "    try:\n",
    "        if float(row[10]) > 0 and genre == 'Games':\n",
    "            price_gaming_apps.append(float(row[10]))\n",
    "    except ValueError:\n",
    "        pass\n",
    "\n",
    "    \n",
    "avg_paid_apps = round(sum(price_gaming_apps) / len(price_gaming_apps), 2)\n",
    "most_expensive_game_app = max(price_gaming_apps)\n",
    "cheapest_game_app = min(price_gaming_apps)\n",
    "\n",
    "\n",
    "print(\"The average price of gaming apps is: \" + \"$\" + str(avg_paid_apps))\n",
    "print(\"The most expensive gaming app is: \" + \"$\" + str(most_expensive_game_app))\n",
    "print(\"The cheapest gaming app is: \" + \"$\" + str(cheapest_game_app))\n",
    "\n",
    "\n",
    "## Maybe make a graph showing the max, min and avg price?? I dunno yet"
   ]
  }
 ],
 "metadata": {
  "kernelspec": {
   "display_name": "Python 3.9.7 64-bit",
   "language": "python",
   "name": "python3"
  },
  "language_info": {
   "codemirror_mode": {
    "name": "ipython",
    "version": 3
   },
   "file_extension": ".py",
   "mimetype": "text/x-python",
   "name": "python",
   "nbconvert_exporter": "python",
   "pygments_lexer": "ipython3",
   "version": "3.9.7"
  },
  "orig_nbformat": 4,
  "vscode": {
   "interpreter": {
    "hash": "c48e784580535a0043e835f347c242c3ba8d520cc19d6dd73066c5c113ac8a1a"
   }
  }
 },
 "nbformat": 4,
 "nbformat_minor": 2
}
